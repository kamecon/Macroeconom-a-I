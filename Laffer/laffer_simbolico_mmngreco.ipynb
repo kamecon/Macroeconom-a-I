{
 "cells": [
  {
   "cell_type": "markdown",
   "metadata": {},
   "source": [
    "# Máximo de la curva de Laffer\n",
    "\n",
    "A continuación se presenta un ejercicio analítico cuyo objetivo es obtener los determinantes del máximo de una curva de Laffer muy sencilla mediante el uso de la librería de lenguaje simbólico de Python *Sympy*.\n",
    "\n",
    "Partimos de la curva de Laffer obtenida en el resto de los ejercicios del respositorio\n",
    "\n",
    "## Importamos las librerías necesarias\n"
   ]
  },
  {
   "cell_type": "code",
   "execution_count": 1,
   "metadata": {},
   "outputs": [],
   "source": [
    "import sympy as sp\n",
    "import matplotlib.pyplot as plt"
   ]
  },
  {
   "cell_type": "code",
   "execution_count": 2,
   "metadata": {},
   "outputs": [],
   "source": [
    "%matplotlib inline\n",
    "sp.init_printing()"
   ]
  },
  {
   "cell_type": "markdown",
   "metadata": {},
   "source": [
    "## Definimos los símbolos"
   ]
  },
  {
   "cell_type": "code",
   "execution_count": 3,
   "metadata": {},
   "outputs": [],
   "source": [
    "K, A, N, a, r, rmg, w, t, g, c, N, y, ymg, u, umg = sp.symbols(\n",
    "    r\"K A N \\alpha R R' w \\tau_l \\gamma c N y y' u u'\", \n",
    "    real=True\n",
    ")"
   ]
  },
  {
   "cell_type": "markdown",
   "metadata": {},
   "source": [
    "Empezamos por el problema del consumidor, definido por la función de utilidad y la restricción de presupuesto\n",
    "\n",
    "## Función de utilidad\n"
   ]
  },
  {
   "cell_type": "code",
   "execution_count": 4,
   "metadata": {},
   "outputs": [
    {
     "data": {
      "image/png": "[encoded data removed]",
      "text/latex": [
       "$$- N + \\frac{c^{\\gamma}}{\\gamma}$$"
      ],
      "text/plain": [
       "      \\gamma\n",
       "     c      \n",
       "-N + ───────\n",
       "      \\gamma"
      ]
     },
     "execution_count": 4,
     "metadata": {},
     "output_type": "execute_result"
    }
   ],
   "source": [
    "U = (c**g)/g - N\n",
    "U"
   ]
  },
  {
   "cell_type": "code",
   "execution_count": 5,
   "metadata": {},
   "outputs": [
    {
     "data": {
      "image/png": "[encoded data removed]",
      "text/latex": [
       "$$u = - N + \\frac{c^{\\gamma}}{\\gamma}$$"
      ],
      "text/plain": [
       "          \\gamma\n",
       "         c      \n",
       "u = -N + ───────\n",
       "          \\gamma"
      ]
     },
     "execution_count": 5,
     "metadata": {},
     "output_type": "execute_result"
    }
   ],
   "source": [
    "sp.Eq(u, U)"
   ]
  },
  {
   "cell_type": "markdown",
   "metadata": {},
   "source": [
    "## Restricción presupuestaria"
   ]
  },
  {
   "cell_type": "code",
   "execution_count": 6,
   "metadata": {},
   "outputs": [
    {
     "data": {
      "image/png": "[encoded data removed]",
      "text/latex": [
       "$$N w \\left(- \\tau_l + 1\\right)$$"
      ],
      "text/plain": [
       "N⋅w⋅(-\\tauₗ + 1)"
      ]
     },
     "execution_count": 6,
     "metadata": {},
     "output_type": "execute_result"
    }
   ],
   "source": [
    "C = (1-t)*w*N\n",
    "C"
   ]
  },
  {
   "cell_type": "code",
   "execution_count": 7,
   "metadata": {},
   "outputs": [
    {
     "data": {
      "image/png": "[encoded data removed]",
      "text/latex": [
       "$$c = N w \\left(- \\tau_l + 1\\right)$$"
      ],
      "text/plain": [
       "c = N⋅w⋅(-\\tauₗ + 1)"
      ]
     },
     "execution_count": 7,
     "metadata": {},
     "output_type": "execute_result"
    }
   ],
   "source": [
    "sp.Eq(c, C)"
   ]
  },
  {
   "cell_type": "markdown",
   "metadata": {},
   "source": [
    "Sustituimos la restricción de presupuesto en la función de utilidad"
   ]
  },
  {
   "cell_type": "code",
   "execution_count": 8,
   "metadata": {},
   "outputs": [
    {
     "data": {
      "image/png": "[encoded data removed]",
      "text/latex": [
       "$$- N + \\frac{1}{\\gamma} \\left(N w \\left(- \\tau_l + 1\\right)\\right)^{\\gamma}$$"
      ],
      "text/plain": [
       "                       \\gamma\n",
       "     (N⋅w⋅(-\\tauₗ + 1))      \n",
       "-N + ────────────────────────\n",
       "              \\gamma         "
      ]
     },
     "execution_count": 8,
     "metadata": {},
     "output_type": "execute_result"
    }
   ],
   "source": [
    "U = U.subs(c, C)\n",
    "U"
   ]
  },
  {
   "cell_type": "code",
   "execution_count": 9,
   "metadata": {},
   "outputs": [
    {
     "data": {
      "image/png": "[encoded data removed]",
      "text/latex": [
       "$$u = - N + \\frac{1}{\\gamma} \\left(N w \\left(- \\tau_l + 1\\right)\\right)^{\\gamma}$$"
      ],
      "text/plain": [
       "                           \\gamma\n",
       "         (N⋅w⋅(-\\tauₗ + 1))      \n",
       "u = -N + ────────────────────────\n",
       "                  \\gamma         "
      ]
     },
     "execution_count": 9,
     "metadata": {},
     "output_type": "execute_result"
    }
   ],
   "source": [
    "sp.Eq(u, U)"
   ]
  },
  {
   "cell_type": "markdown",
   "metadata": {},
   "source": [
    "# Calculamos la utilidad marginal"
   ]
  },
  {
   "cell_type": "code",
   "execution_count": 10,
   "metadata": {},
   "outputs": [
    {
     "data": {
      "image/png": "[encoded data removed]",
      "text/latex": [
       "$$-1 + \\frac{1}{N} \\left(N w \\left(- \\tau_l + 1\\right)\\right)^{\\gamma}$$"
      ],
      "text/plain": [
       "                       \\gamma\n",
       "     (N⋅w⋅(-\\tauₗ + 1))      \n",
       "-1 + ────────────────────────\n",
       "                N            "
      ]
     },
     "execution_count": 10,
     "metadata": {},
     "output_type": "execute_result"
    }
   ],
   "source": [
    "Umg = U.diff(N)#.subs(g, 0.5)\n",
    "Umg"
   ]
  },
  {
   "cell_type": "code",
   "execution_count": 11,
   "metadata": {},
   "outputs": [
    {
     "data": {
      "image/png": "[encoded data removed]",
      "text/latex": [
       "$$u' = -1 + \\frac{1}{N} \\left(N w \\left(- \\tau_l + 1\\right)\\right)^{\\gamma}$$"
      ],
      "text/plain": [
       "                            \\gamma\n",
       "          (N⋅w⋅(-\\tauₗ + 1))      \n",
       "u' = -1 + ────────────────────────\n",
       "                     N            "
      ]
     },
     "execution_count": 11,
     "metadata": {},
     "output_type": "execute_result"
    }
   ],
   "source": [
    "sp.Eq(umg, Umg)"
   ]
  },
  {
   "cell_type": "markdown",
   "metadata": {},
   "source": [
    "Obtenemos el nivel de empleo que maximiza la utilidad $Umg = 0$\n",
    "> **NOTA: workaround**"
   ]
  },
  {
   "cell_type": "code",
   "execution_count": 12,
   "metadata": {},
   "outputs": [
    {
     "data": {
      "image/png": "[encoded data removed]",
      "text/latex": [
       "$$\\left(w \\left(- \\tau_l + 1\\right)\\right)^{- \\frac{\\gamma}{\\gamma - 1}}$$"
      ],
      "text/plain": [
       "                 -\\gamma  \n",
       "                ──────────\n",
       "                \\gamma - 1\n",
       "(w⋅(-\\tauₗ + 1))          "
      ]
     },
     "execution_count": 12,
     "metadata": {},
     "output_type": "execute_result"
    }
   ],
   "source": [
    "t_eq = sp.Eq(sp.solve(Umg, t)[0], t)  # workaround\n",
    "ON = sp.solve(t_eq, N)[0]\n",
    "ON"
   ]
  },
  {
   "cell_type": "code",
   "execution_count": 13,
   "metadata": {},
   "outputs": [
    {
     "data": {
      "image/png": "[encoded data removed]",
      "text/latex": [
       "$$N = \\left(w \\left(- \\tau_l + 1\\right)\\right)^{- \\frac{\\gamma}{\\gamma - 1}}$$"
      ],
      "text/plain": [
       "                     -\\gamma  \n",
       "                    ──────────\n",
       "                    \\gamma - 1\n",
       "N = (w⋅(-\\tauₗ + 1))          "
      ]
     },
     "execution_count": 13,
     "metadata": {},
     "output_type": "execute_result"
    }
   ],
   "source": [
    "sp.Eq(N,ON)"
   ]
  },
  {
   "cell_type": "markdown",
   "metadata": {},
   "source": [
    "Ahora pasemos al lado de la producción\n",
    "\n",
    "## Función de Producción"
   ]
  },
  {
   "cell_type": "code",
   "execution_count": 14,
   "metadata": {},
   "outputs": [
    {
     "data": {
      "image/png": "[encoded data removed]",
      "text/latex": [
       "$$A K^{\\alpha} N^{- \\alpha + 1}$$"
      ],
      "text/plain": [
       "   \\alpha  -\\alpha + 1\n",
       "A⋅K      ⋅N           "
      ]
     },
     "execution_count": 14,
     "metadata": {},
     "output_type": "execute_result"
    }
   ],
   "source": [
    "Y = A*K**(a)*N**(1-a)\n",
    "Y"
   ]
  },
  {
   "cell_type": "code",
   "execution_count": 15,
   "metadata": {},
   "outputs": [
    {
     "data": {
      "image/png": "[encoded data removed]",
      "text/latex": [
       "$$y = A K^{\\alpha} N^{- \\alpha + 1}$$"
      ],
      "text/plain": [
       "       \\alpha  -\\alpha + 1\n",
       "y = A⋅K      ⋅N           "
      ]
     },
     "execution_count": 15,
     "metadata": {},
     "output_type": "execute_result"
    }
   ],
   "source": [
    "sp.Eq(y, Y)"
   ]
  },
  {
   "cell_type": "markdown",
   "metadata": {},
   "source": [
    "# Calculamos el producto marginal"
   ]
  },
  {
   "cell_type": "code",
   "execution_count": 16,
   "metadata": {},
   "outputs": [
    {
     "data": {
      "image/png": "[encoded data removed]",
      "text/latex": [
       "$$\\frac{A K^{\\alpha}}{N} N^{- \\alpha + 1} \\left(- \\alpha + 1\\right)$$"
      ],
      "text/plain": [
       "   \\alpha  -\\alpha + 1              \n",
       "A⋅K      ⋅N           ⋅(-\\alpha + 1)\n",
       "────────────────────────────────────\n",
       "                 N                  "
      ]
     },
     "execution_count": 16,
     "metadata": {},
     "output_type": "execute_result"
    }
   ],
   "source": [
    "Pmg = Y.diff(N)\n",
    "Pmg"
   ]
  },
  {
   "cell_type": "markdown",
   "metadata": {},
   "source": [
    "Obtenemos la demanda de trabajo como aquel que iguala el producto marginal al salario real"
   ]
  },
  {
   "cell_type": "code",
   "execution_count": 17,
   "metadata": {},
   "outputs": [
    {
     "data": {
      "image/png": "[encoded data removed]",
      "text/latex": [
       "$$N = \\left(\\frac{A K^{\\alpha}}{w} \\left(- \\alpha + 1\\right)\\right)^{\\frac{1}{\\alpha}}$$"
      ],
      "text/plain": [
       "             _________________________\n",
       "            ╱    \\alpha               \n",
       "           ╱  A⋅K      ⋅(-\\alpha + 1) \n",
       "N = \\alpha╱   ─────────────────────── \n",
       "        ╲╱               w            "
      ]
     },
     "execution_count": 17,
     "metadata": {},
     "output_type": "execute_result"
    }
   ],
   "source": [
    "DN = sp.solve(Pmg-w, N)[0]\n",
    "DN\n",
    "sp.Eq(N, DN)"
   ]
  },
  {
   "cell_type": "markdown",
   "metadata": {},
   "source": [
    "## Nivel de empleo de equilibrio\n",
    "\n",
    "Resolvemos para el nivel de salario de equilibrio"
   ]
  },
  {
   "cell_type": "code",
   "execution_count": 18,
   "metadata": {},
   "outputs": [
    {
     "data": {
      "image/png": "[encoded data removed]",
      "text/latex": [
       "$$w = \\left(K \\left(- A \\left(\\alpha - 1\\right)\\right)^{\\frac{1}{\\alpha}} \\left(- \\tau_l + 1\\right)^{\\frac{\\gamma}{\\gamma - 1}}\\right)^{- \\frac{\\alpha \\left(\\gamma - 1\\right)}{\\alpha \\gamma - \\gamma + 1}}$$"
      ],
      "text/plain": [
       "                                                        -\\alpha⋅(\\gamma - 1)  \n",
       "                                                      ────────────────────────\n",
       "                                                      \\alpha⋅\\gamma - \\gamma +\n",
       "    ⎛                                        \\gamma  ⎞                        \n",
       "    ⎜                                      ──────────⎟                        \n",
       "    ⎜  \\alpha_________________             \\gamma - 1⎟                        \n",
       "w = ⎝K⋅    ╲╱ -A⋅(\\alpha - 1) ⋅(-\\tauₗ + 1)          ⎠                        \n",
       "\n",
       "  \n",
       "──\n",
       " 1\n",
       "  \n",
       "  \n",
       "  \n",
       "  "
      ]
     },
     "execution_count": 18,
     "metadata": {},
     "output_type": "execute_result"
    }
   ],
   "source": [
    "w_eq = sp.solve(DN-ON, w)[0]\n",
    "sp.Eq(w, w_eq)"
   ]
  },
  {
   "cell_type": "markdown",
   "metadata": {},
   "source": [
    "## Recaudación\n",
    "\n",
    "La recaudación viene dada por el tipo impositivo $\\tau_l$ multiplicado por el total de rentas salariales $W\\times N$"
   ]
  },
  {
   "cell_type": "code",
   "execution_count": 19,
   "metadata": {},
   "outputs": [
    {
     "data": {
      "image/png": "[encoded data removed]",
      "text/latex": [
       "$$R = \\tau_l \\left(w \\left(- \\tau_l + 1\\right)\\right)^{- \\frac{\\gamma}{\\gamma - 1}} \\left(K \\left(- A \\left(\\alpha - 1\\right)\\right)^{\\frac{1}{\\alpha}} \\left(- \\tau_l + 1\\right)^{\\frac{\\gamma}{\\gamma - 1}}\\right)^{- \\frac{\\alpha \\left(\\gamma - 1\\right)}{\\alpha \\gamma - \\gamma + 1}}$$"
      ],
      "text/plain": [
       "                                                                              \n",
       "                                                                              \n",
       "                                                                              \n",
       "                           -\\gamma   ⎛                                        \n",
       "                          ────────── ⎜                                      ──\n",
       "                          \\gamma - 1 ⎜  \\alpha_________________             \\g\n",
       "R = \\tauₗ⋅(w⋅(-\\tauₗ + 1))          ⋅⎝K⋅    ╲╱ -A⋅(\\alpha - 1) ⋅(-\\tauₗ + 1)  \n",
       "\n",
       "           -\\alpha⋅(\\gamma - 1)    \n",
       "         ──────────────────────────\n",
       "         \\alpha⋅\\gamma - \\gamma + 1\n",
       "\\gamma  ⎞                          \n",
       "────────⎟                          \n",
       "amma - 1⎟                          \n",
       "        ⎠                          "
      ]
     },
     "execution_count": 19,
     "metadata": {},
     "output_type": "execute_result"
    }
   ],
   "source": [
    "R = w_eq*t*ON\n",
    "sp.Eq(r,R)"
   ]
  },
  {
   "cell_type": "markdown",
   "metadata": {},
   "source": [
    "Empleando la oferta de trabajo en la expresión anterior, observamos que la recaudación depende (en parte, si sustituimos $w$ por su versión de equilibrio tambien entrarían los parámetros de la función de producción) del salario, el tipo impositivo y de la importancia relativa del consumo en la función de utilidad.\n",
    "\n",
    "Si maximizamos la recaudación con respecto al tipo impositivo ¿qué obtendríamos?. Primero derivamos"
   ]
  },
  {
   "cell_type": "code",
   "execution_count": 20,
   "metadata": {},
   "outputs": [
    {
     "data": {
      "image/png": "[encoded data removed]",
      "text/latex": [
       "$$R' = \\frac{\\left(- w \\left(\\tau_l - 1\\right)\\right)^{- \\frac{\\gamma}{\\gamma - 1}}}{\\left(\\gamma - 1\\right) \\left(\\tau_l - 1\\right) \\left(\\alpha \\gamma - \\gamma + 1\\right)} \\left(K \\left(- A \\left(\\alpha - 1\\right)\\right)^{\\frac{1}{\\alpha}} \\left(- \\tau_l + 1\\right)^{\\frac{\\gamma}{\\gamma - 1}}\\right)^{- \\frac{\\alpha \\left(\\gamma - 1\\right)}{\\alpha \\gamma - \\gamma + 1}} \\left(- \\alpha \\gamma \\tau_l \\left(\\gamma - 1\\right) - \\gamma \\tau_l \\left(\\alpha \\gamma - \\gamma + 1\\right) + \\left(\\gamma - 1\\right) \\left(\\tau_l - 1\\right) \\left(\\alpha \\gamma - \\gamma + 1\\right)\\right)$$"
      ],
      "text/plain": [
       "                                                                              \n",
       "                                                                              \n",
       "                                                                              \n",
       "                      -\\gamma   ⎛                                        \\gamm\n",
       "                     ────────── ⎜                                      ───────\n",
       "                     \\gamma - 1 ⎜  \\alpha_________________             \\gamma \n",
       "     (-w⋅(\\tauₗ - 1))          ⋅⎝K⋅    ╲╱ -A⋅(\\alpha - 1) ⋅(-\\tauₗ + 1)       \n",
       "R' = ─────────────────────────────────────────────────────────────────────────\n",
       "                                                                              \n",
       "\n",
       "      -\\alpha⋅(\\gamma - 1)                                                    \n",
       "    ──────────────────────────                                                \n",
       "    \\alpha⋅\\gamma - \\gamma + 1                                                \n",
       "a  ⎞                                                                          \n",
       "───⎟                                                                          \n",
       "- 1⎟                                                                          \n",
       "   ⎠                          ⋅(-\\alpha⋅\\gamma⋅\\tauₗ⋅(\\gamma - 1) - \\gamma⋅\\ta\n",
       "──────────────────────────────────────────────────────────────────────────────\n",
       "                    (\\gamma - 1)⋅(\\tauₗ - 1)⋅(\\alpha⋅\\gamma - \\gamma + 1)     \n",
       "\n",
       "                                                                              \n",
       "                                                                              \n",
       "                                                                              \n",
       "                                                                              \n",
       "                                                                              \n",
       "                                                                              \n",
       "uₗ⋅(\\alpha⋅\\gamma - \\gamma + 1) + (\\gamma - 1)⋅(\\tauₗ - 1)⋅(\\alpha⋅\\gamma - \\g\n",
       "──────────────────────────────────────────────────────────────────────────────\n",
       "                                                                              \n",
       "\n",
       "          \n",
       "          \n",
       "          \n",
       "          \n",
       "          \n",
       "          \n",
       "amma + 1))\n",
       "──────────\n",
       "          "
      ]
     },
     "execution_count": 20,
     "metadata": {},
     "output_type": "execute_result"
    }
   ],
   "source": [
    "Rmg = R.diff(t)\n",
    "sp.Eq(rmg, Rmg.simplify())"
   ]
  },
  {
   "cell_type": "markdown",
   "metadata": {},
   "source": [
    "Resolvemos esta ecuación para $\\tau_l$"
   ]
  },
  {
   "cell_type": "code",
   "execution_count": 21,
   "metadata": {},
   "outputs": [
    {
     "data": {
      "image/png": "[encoded data removed]",
      "text/latex": [
       "$$\\tau_l = - \\frac{\\left(\\gamma - 1\\right) \\left(\\alpha \\gamma - \\gamma + 1\\right)}{\\alpha \\gamma^{2} - \\gamma + 1}$$"
      ],
      "text/plain": [
       "        -(\\gamma - 1)⋅(\\alpha⋅\\gamma - \\gamma + 1) \n",
       "\\tauₗ = ───────────────────────────────────────────\n",
       "                             2                     \n",
       "                \\alpha⋅\\gamma  - \\gamma + 1        "
      ]
     },
     "execution_count": 21,
     "metadata": {},
     "output_type": "execute_result"
    }
   ],
   "source": [
    "t_eq = sp.solve(Rmg,t)[0].factor()\n",
    "sp.Eq(t,t_eq)"
   ]
  },
  {
   "cell_type": "markdown",
   "metadata": {},
   "source": [
    "El máximo de la curva de Laffer solo depende de la importancia relativa del consumo en la función de utilidad, parámetro determinante de la elasticidad de la oferta de trabajo, el máximo debería depender también de los parámetros de la función de producción ~~pero como no hemos empleado el salario de equilibrio en la recaudación no se observa~~."
   ]
  }
 ],
 "metadata": {
  "kernelspec": {
   "display_name": "Python 3",
   "language": "python",
   "name": "python3"
  },
  "language_info": {
   "codemirror_mode": {
    "name": "ipython",
    "version": 3
   },
   "file_extension": ".py",
   "mimetype": "text/x-python",
   "name": "python",
   "nbconvert_exporter": "python",
   "pygments_lexer": "ipython3",
   "version": "3.5.4"
  }
 },
 "nbformat": 4,
 "nbformat_minor": 2
}
